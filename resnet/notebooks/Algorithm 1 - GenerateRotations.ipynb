{
 "cells": [
  {
   "cell_type": "markdown",
   "id": "ef4691d2",
   "metadata": {},
   "source": [
    "## Algorithm 1\n",
    "\n",
    "This notebook implements the Algorithm 1 described in the paper, called GenerateRotations"
   ]
  },
  {
   "cell_type": "code",
   "id": "1f585c38",
   "metadata": {
    "ExecuteTime": {
     "end_time": "2024-05-28T02:45:13.907355Z",
     "start_time": "2024-05-28T02:45:13.901374Z"
    }
   },
   "source": [
    "import math\n",
    "k = 3\n",
    "\n",
    "if k % 2 == 0:\n",
    "    print(\"k must be odd-sized\")"
   ],
   "outputs": [],
   "execution_count": 1
  },
  {
   "cell_type": "markdown",
   "id": "d0f70be3",
   "metadata": {},
   "source": [
    "We create an empty dictionary"
   ]
  },
  {
   "cell_type": "code",
   "id": "bf02568b",
   "metadata": {
    "ExecuteTime": {
     "end_time": "2024-05-28T02:45:19.980624Z",
     "start_time": "2024-05-28T02:45:19.978535Z"
    }
   },
   "source": [
    "r = {}\n",
    "for i in range(k**2):\n",
    "    r[i] = 0"
   ],
   "outputs": [],
   "execution_count": 2
  },
  {
   "cell_type": "markdown",
   "id": "dd8aaf5e",
   "metadata": {},
   "source": [
    "We set the name for the first $\\textbf{c}$, which contains the central element"
   ]
  },
  {
   "cell_type": "code",
   "id": "13bfdbdd",
   "metadata": {
    "ExecuteTime": {
     "end_time": "2024-05-28T02:45:21.494209Z",
     "start_time": "2024-05-28T02:45:21.492141Z"
    }
   },
   "source": [
    "mid = math.floor((k**2) / 2)\n",
    "r[mid] = \"c\"\n",
    "half = math.floor(k/2)"
   ],
   "outputs": [],
   "execution_count": 3
  },
  {
   "cell_type": "markdown",
   "id": "fddf40ba",
   "metadata": {},
   "source": [
    "Next, we define the rotations of the central column"
   ]
  },
  {
   "cell_type": "code",
   "id": "e9b11dfa",
   "metadata": {
    "ExecuteTime": {
     "end_time": "2024-05-28T02:45:22.352774Z",
     "start_time": "2024-05-28T02:45:22.349884Z"
    }
   },
   "source": [
    "for i in range(1, half + 1):\n",
    "    r[mid + (i*k)] = \"Rot(r[{}], +w)\".format(mid + ((i-1)*k)) #c[mid + ((i-1)*k)]\n",
    "    r[mid - (i*k)] = \"Rot(r[{}], -w)\".format(mid - ((i-1)*k)) #c[mid - ((i-1)*k)] + \" - w\""
   ],
   "outputs": [],
   "execution_count": 4
  },
  {
   "cell_type": "markdown",
   "id": "2abc7e46",
   "metadata": {},
   "source": [
    "Then, all the others"
   ]
  },
  {
   "cell_type": "code",
   "id": "50b589a0",
   "metadata": {
    "ExecuteTime": {
     "end_time": "2024-05-28T02:45:23.713339Z",
     "start_time": "2024-05-28T02:45:23.711153Z"
    }
   },
   "source": [
    "for i in range(k):\n",
    "    row = k * i\n",
    "    for j in range(half):\n",
    "        col = j + 1 + half\n",
    "        r[row+col] = \"Rot(r[{}], +1)\".format(row+col-1)\n",
    "        col = -j - 1 + half\n",
    "        r[row+col] = \"Rot(r[{}], -1)\".format(row+col+1)"
   ],
   "outputs": [],
   "execution_count": 5
  },
  {
   "cell_type": "markdown",
   "id": "e57e6555",
   "metadata": {},
   "source": [
    "Each ciphertext is constructed in relation to others as follows:"
   ]
  },
  {
   "cell_type": "code",
   "id": "6273fa09",
   "metadata": {
    "ExecuteTime": {
     "end_time": "2024-05-28T02:45:24.638826Z",
     "start_time": "2024-05-28T02:45:24.635881Z"
    }
   },
   "source": [
    "for i in range(len(r.keys())):\n",
    "    print(\"r[{}] : {}\".format(i, r[i]).replace(\"Rot(r[{}]\".format(mid), \"FastRot(r[{}]\".format(mid)))"
   ],
   "outputs": [
    {
     "name": "stdout",
     "output_type": "stream",
     "text": [
      "r[0] : Rot(r[1], -1)\n",
      "r[1] : FastRot(r[4], -w)\n",
      "r[2] : Rot(r[1], +1)\n",
      "r[3] : FastRot(r[4], -1)\n",
      "r[4] : c\n",
      "r[5] : FastRot(r[4], +1)\n",
      "r[6] : Rot(r[7], -1)\n",
      "r[7] : FastRot(r[4], +w)\n",
      "r[8] : Rot(r[7], +1)\n"
     ]
    }
   ],
   "execution_count": 6
  },
  {
   "cell_type": "markdown",
   "id": "0e504fd3",
   "metadata": {},
   "source": [
    "We created all the rotations using only four rotation keys"
   ]
  },
  {
   "metadata": {},
   "cell_type": "code",
   "outputs": [],
   "execution_count": null,
   "source": "",
   "id": "3f0709e7d8ceb60d"
  }
 ],
 "metadata": {
  "kernelspec": {
   "display_name": "Python 3 (ipykernel)",
   "language": "python",
   "name": "python3"
  },
  "language_info": {
   "codemirror_mode": {
    "name": "ipython",
    "version": 3
   },
   "file_extension": ".py",
   "mimetype": "text/x-python",
   "name": "python",
   "nbconvert_exporter": "python",
   "pygments_lexer": "ipython3",
   "version": "3.9.6"
  }
 },
 "nbformat": 4,
 "nbformat_minor": 5
}
